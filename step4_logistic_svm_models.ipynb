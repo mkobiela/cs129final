{
 "cells": [
  {
   "cell_type": "code",
   "execution_count": 2,
   "id": "upper-fifteen",
   "metadata": {},
   "outputs": [],
   "source": [
    "import pandas as pd\n",
    "import numpy as np\n",
    "import math\n",
    "# import random\n",
    "from sklearn.linear_model import LogisticRegression\n",
    "from sklearn.metrics import confusion_matrix, classification_report\n",
    "from sklearn import svm\n",
    "import matplotlib.pyplot as plt\n",
    "import os\n",
    "from datetime import datetime"
   ]
  },
  {
   "cell_type": "code",
   "execution_count": 3,
   "id": "funky-saturn",
   "metadata": {},
   "outputs": [],
   "source": [
    "input_filename = \"final_analysis_20210307_132723.csv\"\n",
    "cols = pd.read_csv(input_filename, nrows=1).columns\n",
    "df = pd.read_csv(input_filename, usecols=cols[1:])\n",
    "df = df.loc[df['pctavail'] == 1]"
   ]
  },
  {
   "cell_type": "code",
   "execution_count": 4,
   "id": "finished-cigarette",
   "metadata": {},
   "outputs": [
    {
     "name": "stdout",
     "output_type": "stream",
     "text": [
      "% Train: 0.6059597214732844\n",
      "% CV:    0.19993904297470283\n",
      "% Test:  0.19410123555201275\n"
     ]
    }
   ],
   "source": [
    "# Split into training, CV, and test\n",
    "# Note: check that the proportion of *observations* assigned matches what you want. If not, change the random seed\n",
    "stocks = pd.DataFrame(df['symbol'].unique())\n",
    "stocks.rename({0:'symbol'}, axis='columns', inplace=True)\n",
    "nStocks = len(stocks)\n",
    "\n",
    "# Set % of stocks in training and CV sets\n",
    "pctTraining = 0.6\n",
    "pctCV = 0.2\n",
    "seedVal = 260000\n",
    "\n",
    "np.random.seed(seedVal)\n",
    "stocks['rand'] = np.random.rand(nStocks)\n",
    "conditions = [(stocks['rand'] <= pctTraining), (stocks['rand'] > pctTraining) & (stocks['rand'] <= (pctTraining + pctCV)),(stocks['rand'] > (pctTraining + pctCV))]\n",
    "stocks['bucket'] = np.select(conditions,['training','cv','test'])\n",
    "\n",
    "assdf = pd.merge(df,stocks,left_on='symbol',right_on='symbol')\n",
    "\n",
    "print(\"% Train: \" + str(sum(assdf['bucket'] == 'training') / len(assdf)))\n",
    "print(\"% CV:    \" + str(sum(assdf['bucket'] == 'cv') / len(assdf)))\n",
    "print(\"% Test:  \" + str(sum(assdf['bucket'] == 'test') / len(assdf)))"
   ]
  },
  {
   "cell_type": "code",
   "execution_count": 5,
   "id": "polish-hayes",
   "metadata": {},
   "outputs": [
    {
     "name": "stdout",
     "output_type": "stream",
     "text": [
      "42653\n",
      "142\n"
     ]
    }
   ],
   "source": [
    "# Dataset stats\n",
    "print(len(df))\n",
    "print(len(stocks))"
   ]
  },
  {
   "cell_type": "code",
   "execution_count": 6,
   "id": "peripheral-routine",
   "metadata": {},
   "outputs": [
    {
     "name": "stdout",
     "output_type": "stream",
     "text": [
      "25846 61\n"
     ]
    }
   ],
   "source": [
    "# Create X and Y arrays for the logistic regression\n",
    "# Set helpful variables\n",
    "xdf = assdf[assdf['bucket'] == 'training']\n",
    "xCVdf = assdf[assdf['bucket'] == 'cv']\n",
    "xTestdf = assdf[assdf['bucket'] == 'test']\n",
    "\n",
    "m = len(xdf)\n",
    "n = 61\n",
    "print(m,n)\n",
    "\n",
    "xColNames = []\n",
    "for n in range(1,n+1):\n",
    "    xColNames.append(\"avgp_minus\" + str(n))\n",
    "    \n",
    "x = xdf[xColNames].to_numpy()\n",
    "xCV = xCVdf[xColNames].to_numpy()\n",
    "xTest = xTestdf[xColNames].to_numpy()\n",
    "\n",
    "y = xdf['closedUp'].to_numpy()\n",
    "yCV = xCVdf['closedUp'].to_numpy()\n",
    "yTest = xTestdf['closedUp'].to_numpy()"
   ]
  },
  {
   "cell_type": "code",
   "execution_count": 11,
   "id": "general-yield",
   "metadata": {},
   "outputs": [
    {
     "data": {
      "text/plain": [
       "LogisticRegression(C=1, random_state=0, solver='liblinear')"
      ]
     },
     "execution_count": 11,
     "metadata": {},
     "output_type": "execute_result"
    }
   ],
   "source": [
    "model = LogisticRegression(solver='liblinear', C=1, random_state=0)\n",
    "model.fit(x,y)"
   ]
  },
  {
   "cell_type": "code",
   "execution_count": 12,
   "id": "joined-doctrine",
   "metadata": {},
   "outputs": [
    {
     "data": {
      "text/plain": [
       "array([1, 0, 1, ..., 0, 1, 1])"
      ]
     },
     "execution_count": 12,
     "metadata": {},
     "output_type": "execute_result"
    }
   ],
   "source": [
    "# model.classes_\n",
    "# model.predict_proba(x)\n",
    "model.predict(x)"
   ]
  },
  {
   "cell_type": "code",
   "execution_count": 13,
   "id": "beginning-citation",
   "metadata": {},
   "outputs": [
    {
     "data": {
      "text/plain": [
       "0.5375234521575984"
      ]
     },
     "execution_count": 13,
     "metadata": {},
     "output_type": "execute_result"
    }
   ],
   "source": [
    "#accuracy on training set\n",
    "model.score(xCV,yCV)"
   ]
  },
  {
   "cell_type": "code",
   "execution_count": null,
   "id": "alike-wagner",
   "metadata": {},
   "outputs": [],
   "source": [
    "confusion_matrix(y, model.predict(x))"
   ]
  },
  {
   "cell_type": "code",
   "execution_count": 14,
   "id": "cooperative-belief",
   "metadata": {
    "scrolled": false
   },
   "outputs": [
    {
     "name": "stdout",
     "output_type": "stream",
     "text": [
      "0.001 0.5069183864915572\n",
      "0.1 0.5181754221388368\n",
      "0.3 0.5236866791744841\n",
      "1 0.5375234521575984\n",
      "3 0.5521810506566605\n",
      "10 0.5580440900562852\n",
      "30 0.5560506566604128\n",
      "100 0.5548780487804879\n",
      "---\n",
      "Best l: 10 Acc: 0.5580440900562852\n"
     ]
    }
   ],
   "source": [
    "# Run the logistic regression, choosing the best regularization hyperparameter\n",
    "# Reference: https://realpython.com/logistic-regression-python/\n",
    "\n",
    "lSet = [.001, .1, .3, 1, 3, 10, 30, 100]\n",
    "bestAcc = 0\n",
    "bestLambda = -1\n",
    "for l in lSet:\n",
    "    m = LogisticRegression(solver='liblinear', C=l, random_state=0)\n",
    "    m.fit(x,y)\n",
    "    cvScore = m.score(xCV,yCV)\n",
    "    print(l, cvScore)\n",
    "    if cvScore > bestAcc:\n",
    "        bestAcc = cvScore\n",
    "        bestLambda = l\n",
    "print(\"---\\nBest l: \" + str(bestLambda) + \" Acc: \" + str(bestAcc))"
   ]
  },
  {
   "cell_type": "code",
   "execution_count": 15,
   "id": "vocal-observation",
   "metadata": {},
   "outputs": [
    {
     "name": "stdout",
     "output_type": "stream",
     "text": [
      "Accuracy: 0.5701171639086846 with lambda: 10\n"
     ]
    }
   ],
   "source": [
    "mFinal = LogisticRegression(solver='liblinear', C=bestLambda, random_state=0)\n",
    "mFinal.fit(x,y)\n",
    "cvScore = mFinal.score(xTest,yTest)\n",
    "print(\"Accuracy: \" + str(cvScore) + \" with lambda: \" + str(bestLambda))"
   ]
  },
  {
   "cell_type": "code",
   "execution_count": 69,
   "id": "revolutionary-netscape",
   "metadata": {},
   "outputs": [
    {
     "name": "stdout",
     "output_type": "stream",
     "text": [
      "              precision    recall  f1-score   support\n",
      "\n",
      "           0       0.58      0.46      0.52      4082\n",
      "           1       0.56      0.67      0.61      4197\n",
      "\n",
      "    accuracy                           0.57      8279\n",
      "   macro avg       0.57      0.57      0.56      8279\n",
      "weighted avg       0.57      0.57      0.57      8279\n",
      "\n"
     ]
    },
    {
     "data": {
      "image/png": "[encoded data removed]",
      "text/plain": [
       "<Figure size 576x576 with 1 Axes>"
      ]
     },
     "metadata": {
      "needs_background": "light"
     },
     "output_type": "display_data"
    }
   ],
   "source": [
    "print(classification_report(yTest,mFinal.predict(xTest)), sep='\\n')\n",
    "\n",
    "cm = confusion_matrix(yTest,mFinal.predict(xTest))\n",
    "fig, ax = plt.subplots(figsize=(8, 8))\n",
    "ax.imshow(cm)\n",
    "ax.grid(False)\n",
    "ax.xaxis.set(ticks=(0, 1), ticklabels=('Predicted 0s', 'Predicted 1s'))\n",
    "ax.yaxis.set(ticks=(0, 1), ticklabels=('Actual 0s', 'Actual 1s'))\n",
    "ax.set_ylim(1.5, -0.5)\n",
    "for i in range(2):\n",
    "    for j in range(2):\n",
    "        ax.text(j, i, cm[i, j], ha='center', va='center', color='red')\n",
    "plt.show()"
   ]
  },
  {
   "cell_type": "code",
   "execution_count": null,
   "id": "human-worcester",
   "metadata": {},
   "outputs": [],
   "source": [
    "# SVM portion:\n",
    "\n",
    "# x = xdf[xColNames].to_numpy()\n",
    "# xCV = xCVdf[xColNames].to_numpy()\n",
    "# xTest = xTestdf[xColNames].to_numpy()\n",
    "\n",
    "# y = xdf['closedUp'].to_numpy()\n",
    "# yCV = xCVdf['closedUp'].to_numpy()\n",
    "# yTest = xTestdf['closedUp'].to_numpy()"
   ]
  },
  {
   "cell_type": "code",
   "execution_count": null,
   "id": "afraid-witness",
   "metadata": {},
   "outputs": [],
   "source": [
    "#compare kernels: linear vs Gaussian"
   ]
  },
  {
   "cell_type": "code",
   "execution_count": 18,
   "id": "organized-navigation",
   "metadata": {},
   "outputs": [
    {
     "name": "stdout",
     "output_type": "stream",
     "text": [
      "23:51:50.788298\n"
     ]
    }
   ],
   "source": [
    "print(datetime.now().time())\n",
    "scm_lin = svm.SVC(kernel='linear')"
   ]
  },
  {
   "cell_type": "code",
   "execution_count": 19,
   "id": "formed-runner",
   "metadata": {},
   "outputs": [
    {
     "name": "stdout",
     "output_type": "stream",
     "text": [
      "23:51:55.109213\n"
     ]
    },
    {
     "data": {
      "text/plain": [
       "SVC(kernel='linear')"
      ]
     },
     "execution_count": 19,
     "metadata": {},
     "output_type": "execute_result"
    }
   ],
   "source": [
    "print(datetime.now().time())\n",
    "scm_lin.fit(x,y)"
   ]
  },
  {
   "cell_type": "code",
   "execution_count": 20,
   "id": "broad-appeal",
   "metadata": {},
   "outputs": [
    {
     "name": "stdout",
     "output_type": "stream",
     "text": [
      "23:53:45.370480\n"
     ]
    },
    {
     "data": {
      "text/plain": [
       "0.512546904315197"
      ]
     },
     "execution_count": 20,
     "metadata": {},
     "output_type": "execute_result"
    }
   ],
   "source": [
    "print(datetime.now().time())\n",
    "scm_lin.score(xCV,yCV)"
   ]
  },
  {
   "cell_type": "code",
   "execution_count": 21,
   "id": "active-german",
   "metadata": {},
   "outputs": [
    {
     "name": "stdout",
     "output_type": "stream",
     "text": [
      "23:54:02.187694\n"
     ]
    }
   ],
   "source": [
    "print(datetime.now().time())\n",
    "scm_gau = svm.SVC(kernel='rbf')"
   ]
  },
  {
   "cell_type": "code",
   "execution_count": 22,
   "id": "scheduled-antibody",
   "metadata": {},
   "outputs": [
    {
     "name": "stdout",
     "output_type": "stream",
     "text": [
      "23:54:02.199140\n"
     ]
    },
    {
     "data": {
      "text/plain": [
       "SVC()"
      ]
     },
     "execution_count": 22,
     "metadata": {},
     "output_type": "execute_result"
    }
   ],
   "source": [
    "print(datetime.now().time())\n",
    "scm_gau.fit(x,y)"
   ]
  },
  {
   "cell_type": "code",
   "execution_count": 23,
   "id": "powered-trail",
   "metadata": {},
   "outputs": [
    {
     "name": "stdout",
     "output_type": "stream",
     "text": [
      "23:55:50.702745\n"
     ]
    },
    {
     "data": {
      "text/plain": [
       "0.5695356472795498"
      ]
     },
     "execution_count": 23,
     "metadata": {},
     "output_type": "execute_result"
    }
   ],
   "source": [
    "print(datetime.now().time())\n",
    "scm_gau.score(xCV,yCV)"
   ]
  },
  {
   "cell_type": "code",
   "execution_count": 65,
   "id": "naval-range",
   "metadata": {},
   "outputs": [
    {
     "name": "stdout",
     "output_type": "stream",
     "text": [
      "-----\n",
      "Running 1/25 with c=0.01 s=0.01\n",
      "Score: 0.5066838649155723\n",
      "Done: 03:16:59.556187\n",
      "-----\n",
      "Running 2/25 with c=0.01 s=0.1\n",
      "Score: 0.5066838649155723\n",
      "Done: 03:19:25.868393\n",
      "-----\n",
      "Running 3/25 with c=0.01 s=1\n",
      "Score: 0.5066838649155723\n",
      "Done: 03:21:54.285392\n",
      "-----\n",
      "Running 4/25 with c=0.01 s=10\n",
      "Score: 0.5066838649155723\n",
      "Done: 03:24:32.304178\n",
      "-----\n",
      "Running 5/25 with c=0.01 s=100\n",
      "Score: 0.5066838649155723\n",
      "Done: 03:27:13.193136\n",
      "-----\n",
      "Running 6/25 with c=0.1 s=0.01\n",
      "Score: 0.5066838649155723\n",
      "Done: 03:29:42.385323\n",
      "-----\n",
      "Running 7/25 with c=0.1 s=0.1\n",
      "Score: 0.5066838649155723\n",
      "Done: 03:32:12.436152\n",
      "-----\n",
      "Running 8/25 with c=0.1 s=1\n",
      "Score: 0.5066838649155723\n",
      "Done: 03:34:39.104375\n",
      "-----\n",
      "Running 9/25 with c=0.1 s=10\n",
      "Score: 0.5313086303939962\n",
      "Done: 03:37:15.549781\n",
      "-----\n",
      "Running 10/25 with c=0.1 s=100\n",
      "Score: 0.5184099437148217\n",
      "Done: 03:39:55.883900\n",
      "-----\n",
      "Running 11/25 with c=1 s=0.01\n",
      "Score: 0.5066838649155723\n",
      "Done: 03:42:27.045864\n",
      "-----\n",
      "Running 12/25 with c=1 s=0.1\n",
      "Score: 0.5075046904315197\n",
      "Done: 03:44:55.296699\n",
      "-----\n",
      "Running 13/25 with c=1 s=1\n",
      "Score: 0.5382270168855535\n",
      "Done: 03:47:24.115097\n",
      "-----\n",
      "Running 14/25 with c=1 s=10\n",
      "Score: 0.5715290806754222\n",
      "Done: 03:49:52.346673\n",
      "-----\n",
      "Running 15/25 with c=1 s=100\n",
      "Score: 0.5607410881801126\n",
      "Done: 03:53:23.237044\n",
      "-----\n",
      "Running 16/25 with c=10 s=0.01\n",
      "Score: 0.5066838649155723\n",
      "Done: 03:55:47.942630\n",
      "-----\n",
      "Running 17/25 with c=10 s=0.1\n",
      "Score: 0.5295497185741088\n",
      "Done: 03:58:18.419314\n",
      "-----\n",
      "Running 18/25 with c=10 s=1\n",
      "Score: 0.5693011257035647\n",
      "Done: 04:00:39.489465\n",
      "-----\n",
      "Running 19/25 with c=10 s=10\n",
      "Score: 0.5827861163227017\n",
      "Done: 04:03:26.335105\n",
      "-----\n",
      "Running 20/25 with c=10 s=100\n",
      "Score: 0.5603893058161351\n",
      "Done: 04:12:59.614493\n",
      "-----\n",
      "Running 21/25 with c=100 s=0.01\n",
      "Score: 0.5286116322701688\n",
      "Done: 04:15:22.668328\n",
      "-----\n",
      "Running 22/25 with c=100 s=0.1\n",
      "Score: 0.5581613508442776\n",
      "Done: 04:17:45.326126\n",
      "-----\n",
      "Running 23/25 with c=100 s=1\n",
      "Score: 0.5807926829268293\n",
      "Done: 04:20:26.157643\n",
      "-----\n",
      "Running 24/25 with c=100 s=10\n",
      "Score: 0.5785647279549718\n",
      "Done: 04:27:05.066744\n",
      "-----\n",
      "Running 25/25 with c=100 s=100\n",
      "Score: 0.5553470919324578\n",
      "Done: 05:04:33.393849\n",
      "0.5827861163227017\n",
      "         c       s     score\n",
      "0     0.01    0.01  0.506684\n",
      "1     0.01    0.10  0.506684\n",
      "2     0.01    1.00  0.506684\n",
      "3     0.01   10.00  0.506684\n",
      "4     0.01  100.00  0.506684\n",
      "5     0.10    0.01  0.506684\n",
      "6     0.10    0.10  0.506684\n",
      "7     0.10    1.00  0.506684\n",
      "8     0.10   10.00  0.531309\n",
      "9     0.10  100.00  0.518410\n",
      "10    1.00    0.01  0.506684\n",
      "11    1.00    0.10  0.507505\n",
      "12    1.00    1.00  0.538227\n",
      "13    1.00   10.00  0.571529\n",
      "14    1.00  100.00  0.560741\n",
      "15   10.00    0.01  0.506684\n",
      "16   10.00    0.10  0.529550\n",
      "17   10.00    1.00  0.569301\n",
      "18   10.00   10.00  0.582786\n",
      "19   10.00  100.00  0.560389\n",
      "20  100.00    0.01  0.528612\n",
      "21  100.00    0.10  0.558161\n",
      "22  100.00    1.00  0.580793\n",
      "23  100.00   10.00  0.578565\n",
      "24  100.00  100.00  0.555347\n"
     ]
    }
   ],
   "source": [
    "# evaluate optimal value of hyperparameters C and sigma\n",
    "c_tries = [0.01,0.1,1,10,100]\n",
    "s_tries = [0.01,0.1,1,10,100]\n",
    "\n",
    "gauss_results = pd.DataFrame(columns =['c','s','score'])\n",
    "n_run = 1\n",
    "max_runs = len(c_tries) * len(s_tries)\n",
    "for c in c_tries:\n",
    "    for s in s_tries:\n",
    "        print(\"-----\\nRunning \" + str(n_run) + \"/\" + str(max_runs) + \" with c=\" + str(c) + \" s=\" + str(s))\n",
    "        this_svm = svm.SVC(C=c, kernel='rbf', gamma=s)\n",
    "        this_svm.fit(x,y)\n",
    "        this_score = this_svm.score(xCV,yCV)\n",
    "        if n_run == 1:\n",
    "            best_svm = this_svm\n",
    "            best_score = this_score\n",
    "        if this_score > gauss_results['score'].max():\n",
    "            best_svm = this_svm\n",
    "            best_score = this_score\n",
    "        gauss_results = gauss_results.append({'c' : c, 's' : s, 'score': this_score}, ignore_index=True)\n",
    "        print(\"Score: \" + str(this_score))\n",
    "        print(\"Done: \" + str(datetime.now().time()))\n",
    "        n_run = n_run + 1\n",
    "    \n",
    "gauss_results.to_csv(os.getcwd() + '/outputs/svm_gauss_results_' + datetime.now().strftime(\"%Y%m%d_%H%M%S\") + '.csv')\n",
    "print(best_score)\n",
    "print(gauss_results)"
   ]
  },
  {
   "cell_type": "code",
   "execution_count": 67,
   "id": "peaceful-faith",
   "metadata": {},
   "outputs": [
    {
     "name": "stdout",
     "output_type": "stream",
     "text": [
      "Using c = 10.0 sigma = 10.0\n",
      "-----\n",
      "Running with m=1000\n",
      "CV score: 0.5159474671669794\n",
      "Done: 06:41:50.307141\n",
      "-----\n",
      "Running with m=2000\n",
      "CV score: 0.5370544090056285\n",
      "Done: 06:41:54.115912\n",
      "-----\n",
      "Running with m=3000\n",
      "CV score: 0.5443245778611632\n",
      "Done: 06:42:00.510192\n",
      "-----\n",
      "Running with m=4000\n",
      "CV score: 0.5471388367729831\n",
      "Done: 06:42:10.243332\n",
      "-----\n",
      "Running with m=5000\n",
      "CV score: 0.5519465290806754\n",
      "Done: 06:42:23.920359\n",
      "-----\n",
      "Running with m=7500\n",
      "CV score: 0.5569887429643527\n",
      "Done: 06:42:51.061903\n",
      "-----\n",
      "Running with m=10000\n",
      "CV score: 0.5556988742964353\n",
      "Done: 06:43:39.022816\n",
      "-----\n",
      "Running with m=15000\n",
      "CV score: 0.5771575984990619\n",
      "Done: 06:45:19.720138\n",
      "-----\n",
      "Running with m=20000\n",
      "CV score: 0.5825515947467167\n",
      "Done: 06:48:18.309914\n",
      "-----\n",
      "Running with m=25000\n",
      "CV score: 0.5823170731707317\n",
      "Done: 06:53:07.569992\n",
      "\n",
      "\n",
      "         m  accTrain     accCV\n",
      "0   1000.0  0.786000  0.515947\n",
      "1   2000.0  0.775500  0.537054\n",
      "2   3000.0  0.761667  0.544325\n",
      "3   4000.0  0.753750  0.547139\n",
      "4   5000.0  0.747200  0.551947\n",
      "5   7500.0  0.723733  0.556989\n",
      "6  10000.0  0.713800  0.555699\n",
      "7  15000.0  0.695667  0.577158\n",
      "8  20000.0  0.681850  0.582552\n",
      "9  25000.0  0.676760  0.582317\n"
     ]
    }
   ],
   "source": [
    "# do learning curves to check whether \n",
    "# use the best c and sigma vlue from the block above\n",
    "c = gauss_results.iloc[gauss_results['score'].idxmax()]['c']\n",
    "sigma = gauss_results.iloc[gauss_results['score'].idxmax()]['s']\n",
    "print(\"Using c = \" + str(c) + \" sigma = \" + str(sigma))\n",
    "\n",
    "\n",
    "# mvals = [50,100,200,500]\n",
    "mvals = [1000, 2000, 3000, 4000, 5000, 7500, 10000, 15000, 20000, 25000]\n",
    "\n",
    "lc_data = pd.DataFrame(columns =['m','accTrain','accCV'])\n",
    "for m in mvals:\n",
    "    print(\"-----\\nRunning with m=\" + str(m))\n",
    "    xsubset = x[:m,:]\n",
    "    ysubset = y[:m]\n",
    "    this_svm = svm.SVC(C=c, kernel='rbf', gamma=sigma)\n",
    "    this_svm.fit(xsubset,ysubset)\n",
    "    this_score_test = this_svm.score(xsubset,ysubset)\n",
    "    this_score_cv = this_svm.score(xCV,yCV)\n",
    "    lc_data = lc_data.append({'m' : m, 'accTrain' : this_score_test, 'accCV': this_score_cv}, ignore_index=True)\n",
    "    print(\"CV score: \" + str(this_score_cv))\n",
    "    print(\"Done: \" + str(datetime.now().time()))\n",
    "  \n",
    "print(\"\\n\")\n",
    "lc_data.to_csv(os.getcwd() + '/outputs/svm_gauss_learncurves_' + datetime.now().strftime(\"%Y%m%d_%H%M%S\") + '.csv')\n",
    "print(lc_data)"
   ]
  },
  {
   "cell_type": "code",
   "execution_count": 68,
   "id": "polish-azerbaijan",
   "metadata": {},
   "outputs": [
    {
     "name": "stdout",
     "output_type": "stream",
     "text": [
      "0.5970527841526755\n"
     ]
    }
   ],
   "source": [
    "final_score = best_svm.score(xTest,yTest)\n",
    "print(final_score)\n"
   ]
  },
  {
   "cell_type": "code",
   "execution_count": 70,
   "id": "relevant-morgan",
   "metadata": {},
   "outputs": [
    {
     "name": "stdout",
     "output_type": "stream",
     "text": [
      "              precision    recall  f1-score   support\n",
      "\n",
      "           0       0.61      0.52      0.56      4082\n",
      "           1       0.59      0.67      0.63      4197\n",
      "\n",
      "    accuracy                           0.60      8279\n",
      "   macro avg       0.60      0.60      0.59      8279\n",
      "weighted avg       0.60      0.60      0.59      8279\n",
      "\n"
     ]
    },
    {
     "data": {
      "image/png": "[encoded data removed]",
      "text/plain": [
       "<Figure size 576x576 with 1 Axes>"
      ]
     },
     "metadata": {
      "needs_background": "light"
     },
     "output_type": "display_data"
    }
   ],
   "source": [
    "print(classification_report(yTest,best_svm.predict(xTest)), sep='\\n')\n",
    "\n",
    "cm = confusion_matrix(yTest,best_svm.predict(xTest))\n",
    "fig, ax = plt.subplots(figsize=(8, 8))\n",
    "ax.imshow(cm)\n",
    "ax.grid(False)\n",
    "ax.xaxis.set(ticks=(0, 1), ticklabels=('Predicted 0s', 'Predicted 1s'))\n",
    "ax.yaxis.set(ticks=(0, 1), ticklabels=('Actual 0s', 'Actual 1s'))\n",
    "ax.set_ylim(1.5, -0.5)\n",
    "for i in range(2):\n",
    "    for j in range(2):\n",
    "        ax.text(j, i, cm[i, j], ha='center', va='center', color='red')\n",
    "plt.show()"
   ]
  },
  {
   "cell_type": "code",
   "execution_count": null,
   "id": "eleven-spectrum",
   "metadata": {},
   "outputs": [],
   "source": []
  }
 ],
 "metadata": {
  "kernelspec": {
   "display_name": "Python 3",
   "language": "python",
   "name": "python3"
  },
  "language_info": {
   "codemirror_mode": {
    "name": "ipython",
    "version": 3
   },
   "file_extension": ".py",
   "mimetype": "text/x-python",
   "name": "python",
   "nbconvert_exporter": "python",
   "pygments_lexer": "ipython3",
   "version": "3.8.2"
  }
 },
 "nbformat": 4,
 "nbformat_minor": 5
}
